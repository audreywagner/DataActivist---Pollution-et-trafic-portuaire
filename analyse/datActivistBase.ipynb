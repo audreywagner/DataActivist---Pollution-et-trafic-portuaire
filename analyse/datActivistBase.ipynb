{
 "cells": [
  {
   "cell_type": "code",
   "execution_count": 2,
   "metadata": {},
   "outputs": [],
   "source": [
    "%matplotlib inline\n",
    "\n",
    "import pandas as pd\n",
    "import stumpy\n",
    "import numpy as np\n",
    "import matplotlib.pyplot as plt\n",
    "import matplotlib.dates as dates\n",
    "from matplotlib.patches import Rectangle\n",
    "import datetime as dt"
   ]
  },
  {
   "cell_type": "code",
   "execution_count": 11,
   "metadata": {},
   "outputs": [
    {
     "ename": "KeyError",
     "evalue": "\"None of ['date_column'] are in the columns\"",
     "output_type": "error",
     "traceback": [
      "\u001b[1;31m---------------------------------------------------------------------------\u001b[0m",
      "\u001b[1;31mKeyError\u001b[0m                                  Traceback (most recent call last)",
      "Cell \u001b[1;32mIn[11], line 8\u001b[0m\n\u001b[0;32m      5\u001b[0m start_date \u001b[39m=\u001b[39m pd\u001b[39m.\u001b[39mto_datetime(\u001b[39m'\u001b[39m\u001b[39m2022-08-01\u001b[39m\u001b[39m'\u001b[39m)\n\u001b[0;32m      6\u001b[0m end_date \u001b[39m=\u001b[39m pd\u001b[39m.\u001b[39mto_datetime(\u001b[39m'\u001b[39m\u001b[39m2022-08-31\u001b[39m\u001b[39m'\u001b[39m)\n\u001b[1;32m----> 8\u001b[0m capteurs_df\u001b[39m.\u001b[39;49mset_index(\u001b[39m'\u001b[39;49m\u001b[39mdate_column\u001b[39;49m\u001b[39m'\u001b[39;49m, inplace\u001b[39m=\u001b[39;49m\u001b[39mTrue\u001b[39;49;00m, drop\u001b[39m=\u001b[39;49m\u001b[39mFalse\u001b[39;49;00m, verify_integrity\u001b[39m=\u001b[39;49m\u001b[39mTrue\u001b[39;49;00m)\n\u001b[0;32m     10\u001b[0m \u001b[39m# Sélectionner les données pour la période spécifiée en utilisant les dates comme index\u001b[39;00m\n\u001b[0;32m     11\u001b[0m data_period \u001b[39m=\u001b[39m capteurs_df\u001b[39m.\u001b[39mloc[start_date:end_date]\n",
      "File \u001b[1;32mc:\\Users\\Raph\\anaconda3\\envs\\envPC\\lib\\site-packages\\pandas\\util\\_decorators.py:331\u001b[0m, in \u001b[0;36mdeprecate_nonkeyword_arguments.<locals>.decorate.<locals>.wrapper\u001b[1;34m(*args, **kwargs)\u001b[0m\n\u001b[0;32m    325\u001b[0m \u001b[39mif\u001b[39;00m \u001b[39mlen\u001b[39m(args) \u001b[39m>\u001b[39m num_allow_args:\n\u001b[0;32m    326\u001b[0m     warnings\u001b[39m.\u001b[39mwarn(\n\u001b[0;32m    327\u001b[0m         msg\u001b[39m.\u001b[39mformat(arguments\u001b[39m=\u001b[39m_format_argument_list(allow_args)),\n\u001b[0;32m    328\u001b[0m         \u001b[39mFutureWarning\u001b[39;00m,\n\u001b[0;32m    329\u001b[0m         stacklevel\u001b[39m=\u001b[39mfind_stack_level(),\n\u001b[0;32m    330\u001b[0m     )\n\u001b[1;32m--> 331\u001b[0m \u001b[39mreturn\u001b[39;00m func(\u001b[39m*\u001b[39margs, \u001b[39m*\u001b[39m\u001b[39m*\u001b[39mkwargs)\n",
      "File \u001b[1;32mc:\\Users\\Raph\\anaconda3\\envs\\envPC\\lib\\site-packages\\pandas\\core\\frame.py:6009\u001b[0m, in \u001b[0;36mDataFrame.set_index\u001b[1;34m(self, keys, drop, append, inplace, verify_integrity)\u001b[0m\n\u001b[0;32m   6006\u001b[0m                 missing\u001b[39m.\u001b[39mappend(col)\n\u001b[0;32m   6008\u001b[0m \u001b[39mif\u001b[39;00m missing:\n\u001b[1;32m-> 6009\u001b[0m     \u001b[39mraise\u001b[39;00m \u001b[39mKeyError\u001b[39;00m(\u001b[39mf\u001b[39m\u001b[39m\"\u001b[39m\u001b[39mNone of \u001b[39m\u001b[39m{\u001b[39;00mmissing\u001b[39m}\u001b[39;00m\u001b[39m are in the columns\u001b[39m\u001b[39m\"\u001b[39m)\n\u001b[0;32m   6011\u001b[0m \u001b[39mif\u001b[39;00m inplace:\n\u001b[0;32m   6012\u001b[0m     frame \u001b[39m=\u001b[39m \u001b[39mself\u001b[39m\n",
      "\u001b[1;31mKeyError\u001b[0m: \"None of ['date_column'] are in the columns\""
     ]
    }
   ],
   "source": [
    "capteurs_df = pd.read_csv(\"E:\\DataCapteurs\\Data Capteurs\\École Centrale Marseille (outside) (43.3414 5.438069) Secondary Real Time 01_01_2019 12_01_2022.csv\")\n",
    "boats_df = pd.read_csv(\"E:\\DataCapteurs\\MarineTrafficMarseillePortAout.csv\")\n",
    "\n",
    "capteurs_df['created_at'] = pd.to_datetime(capteurs_df['created_at'])\n",
    "start_date = pd.to_datetime('2022-08-01')\n",
    "end_date = pd.to_datetime('2022-08-31')\n",
    "\n",
    "capteurs_df.set_index('date_column', inplace=True, drop=False, verify_integrity=True)\n",
    "\n",
    "# Sélectionner les données pour la période spécifiée en utilisant les dates comme index\n",
    "data_period = capteurs_df.loc[start_date:end_date]\n",
    "\n",
    "# Afficher les données de la période sélectionnée\n",
    "print(data_period.size)\n"
   ]
  },
  {
   "cell_type": "code",
   "execution_count": null,
   "metadata": {},
   "outputs": [],
   "source": [
    "# Définir la longueur de la fenêtre de recherche\n",
    "m = 20\n",
    "\n",
    "# Utiliser stumpy pour calculer la matrice de similarité entre les séries temporelles\n",
    "matrix_similarity = stumpy.stump(test_df, m, data_nb_boat)\n",
    "\n",
    "# Trouver les positions des sous-séquences similaires\n",
    "similar_positions = np.where(matrix_similarity > 0.8)\n",
    "\n",
    "# Afficher les résultats\n",
    "print(\"Les positions des sous-séquences similaires sont :\", similar_positions)"
   ]
  }
 ],
 "metadata": {
  "kernelspec": {
   "display_name": "envPC",
   "language": "python",
   "name": "python3"
  },
  "language_info": {
   "codemirror_mode": {
    "name": "ipython",
    "version": 3
   },
   "file_extension": ".py",
   "mimetype": "text/x-python",
   "name": "python",
   "nbconvert_exporter": "python",
   "pygments_lexer": "ipython3",
   "version": "3.9.15"
  },
  "orig_nbformat": 4,
  "vscode": {
   "interpreter": {
    "hash": "447bd4778baddb666134a69cef119c0000ba53c333d53ab56828c3f7e4100229"
   }
  }
 },
 "nbformat": 4,
 "nbformat_minor": 2
}
