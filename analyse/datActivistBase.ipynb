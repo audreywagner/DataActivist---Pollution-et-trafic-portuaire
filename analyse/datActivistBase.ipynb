{
 "cells": [
  {
   "cell_type": "code",
   "execution_count": 1,
   "metadata": {},
   "outputs": [],
   "source": [
    "%matplotlib inline\n",
    "\n",
    "import pandas as pd\n",
    "import stumpy\n",
    "import numpy as np\n",
    "import matplotlib.pyplot as plt\n",
    "import matplotlib.dates as dates\n",
    "from matplotlib.patches import Rectangle\n",
    "import datetime as dt"
   ]
  },
  {
   "cell_type": "code",
   "execution_count": 2,
   "metadata": {},
   "outputs": [
    {
     "name": "stdout",
     "output_type": "stream",
     "text": [
      "[1. 1. 1.]\n",
      "odré lpb\n"
     ]
    }
   ],
   "source": [
    "X = np.ones(3)\n",
    "print(X)\n",
    "\n",
    "print(\"odré lpb\")"
   ]
  }
 ],
 "metadata": {
  "kernelspec": {
   "display_name": "envPC",
   "language": "python",
   "name": "python3"
  },
  "language_info": {
   "codemirror_mode": {
    "name": "ipython",
    "version": 3
   },
   "file_extension": ".py",
   "mimetype": "text/x-python",
   "name": "python",
   "nbconvert_exporter": "python",
   "pygments_lexer": "ipython3",
   "version": "3.9.15"
  },
  "orig_nbformat": 4,
  "vscode": {
   "interpreter": {
    "hash": "447bd4778baddb666134a69cef119c0000ba53c333d53ab56828c3f7e4100229"
   }
  }
 },
 "nbformat": 4,
 "nbformat_minor": 2
}
