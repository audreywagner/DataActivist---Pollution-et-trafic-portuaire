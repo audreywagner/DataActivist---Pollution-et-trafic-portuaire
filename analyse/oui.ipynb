{
 "cells": [
  {
   "cell_type": "code",
   "execution_count": null,
   "metadata": {},
   "outputs": [],
   "source": [
    "import numpy as np"
   ]
  }
 ],
 "metadata": {
  "kernelspec": {
   "display_name": "base",
   "language": "python",
   "name": "python3"
  },
  "language_info": {
   "name": "python",
   "version": "3.9.13 (main, Aug 25 2022, 23:51:50) [MSC v.1916 64 bit (AMD64)]"
  },
  "orig_nbformat": 4,
  "vscode": {
   "interpreter": {
    "hash": "89c02ac821f87b5fb95d13cac8c25eec0090416a2ecd5e73caf18798d22b5ddd"
   }
  }
 },
 "nbformat": 4,
 "nbformat_minor": 2
}
